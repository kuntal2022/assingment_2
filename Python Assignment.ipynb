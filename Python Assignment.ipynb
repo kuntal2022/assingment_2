{
 "cells": [
  {
   "cell_type": "markdown",
   "id": "b846a4f9",
   "metadata": {},
   "source": [
    "## 1. Explain with example when to use for loop and while loop\n"
   ]
  },
  {
   "cell_type": "code",
   "execution_count": 1,
   "id": "49fb0fd3",
   "metadata": {},
   "outputs": [
    {
     "name": "stdout",
     "output_type": "stream",
     "text": [
      "1 2 3 4 5 6 7 8 9 10 "
     ]
    }
   ],
   "source": [
    "# For loop:\n",
    "## When we know how many itration need to be done\n",
    "\n",
    "# print 1 to 10\n",
    "for i in range(1,11):\n",
    "    print(i, end=\" \")"
   ]
  },
  {
   "cell_type": "code",
   "execution_count": 2,
   "id": "175aa99f",
   "metadata": {},
   "outputs": [
    {
     "name": "stdout",
     "output_type": "stream",
     "text": [
      "Do you wnat to start y/n ?n\n"
     ]
    }
   ],
   "source": [
    "# While loop\n",
    "\n",
    "# When we don't know how many times we need to do the iteartion\n",
    "\n",
    "\n",
    "# take the input\n",
    "ex= input('Do you wnat to start y/n ?')\n",
    "\n",
    "# make the condition \n",
    "while ex!='n':\n",
    "    ex= input('Type n if you wnat to close the game?')\n",
    "    while ex==\"n\": # create the 2nd condition\n",
    "        break # break the while loop if user watns to close\n",
    "    else:\n",
    "        print()\n",
    "        print()\n",
    "        print(\"hello world\\n\\n\\n Welcome to while loop\")\n",
    "        print()\n",
    "    \n",
    "    "
   ]
  },
  {
   "cell_type": "markdown",
   "id": "8a515506",
   "metadata": {},
   "source": [
    "## 2. Get sum of first 10 natural numbers using while and for loops"
   ]
  },
  {
   "cell_type": "code",
   "execution_count": 3,
   "id": "6e8ed91c",
   "metadata": {},
   "outputs": [
    {
     "name": "stdout",
     "output_type": "stream",
     "text": [
      "55\n",
      "55\n"
     ]
    }
   ],
   "source": [
    "c=0                   # set value for counter\n",
    "d=0                   # set value for identifier\n",
    "while c<1:                    # set while loop condition\n",
    "    for i in range(1,11):                   # take the first 10 numbers \n",
    "        d=d+i \n",
    "    c=c+1 \n",
    "    \n",
    "    \n",
    "print(d)                      # print the identifier\n",
    "print(1+2+3+4+5+6+7+8+9+10)                   # check manually\n"
   ]
  },
  {
   "cell_type": "markdown",
   "id": "5f633f3f",
   "metadata": {},
   "source": [
    "## Q3. Create a python program to compute the electricity bill for a household.\n",
    "The per-unit charges in rupees are as follows: For the first 100 units, the user will be charged Rs. 4.5 per\n",
    "unit, for the next 100 units, the user will be charged Rs. 6 per unit, and for the next 100 units, the user will\n",
    "be charged Rs. 10 per unit, After 300 units and above the user will be charged Rs. 20 per unit.\n",
    "You are required to take the units of electricity consumed in a month from the user as input.\n",
    "Your program must pass this test case: when the unit of electricity consumed by the user in a month is\n",
    "310, the total electricity bill should be 2250."
   ]
  },
  {
   "cell_type": "code",
   "execution_count": 4,
   "id": "1938fc73",
   "metadata": {},
   "outputs": [
    {
     "name": "stdout",
     "output_type": "stream",
     "text": [
      "Enter The Elictric Bill Units:::::::310\n",
      "\n",
      "The bill for UNITS '310' is '2250.0' ruppes only\n"
     ]
    }
   ],
   "source": [
    "b_unit=int(input(\"Enter The Elictric Bill Units:::::::\"))\n",
    "print()\n",
    "\n",
    "if b_unit <=100:\n",
    "    amount= b_unit*4.5\n",
    "    \n",
    "elif b_unit>100 and b_unit<=200:\n",
    "    amount= (100*4.5)+((b_unit-100)*6)\n",
    "    \n",
    "elif b_unit>200 and b_unit<=300:\n",
    "    amount= (100*4.5)+(100*6)+((b_unit-200)*10)\n",
    "    \n",
    "elif b_unit>300:\n",
    "    amount= (100*4.5)+(100*6)+(100*10)+((b_unit-300)*20)\n",
    "    \n",
    "print (f\"The bill for UNITS '{b_unit}' is '{amount}' ruppes only\")"
   ]
  },
  {
   "cell_type": "markdown",
   "id": "8903001f",
   "metadata": {},
   "source": [
    "## Q4. Create a list of numbers from 1 to 100. Use for loop and while loop to calculate the cube of each number and if the cube of that number is divisible by 4 or 5 then append that number in a list and print that list."
   ]
  },
  {
   "cell_type": "code",
   "execution_count": 5,
   "id": "55a9e3c7",
   "metadata": {},
   "outputs": [
    {
     "name": "stdout",
     "output_type": "stream",
     "text": [
      "[8, 64, 125, 216, 512, 1000, 1728, 2744, 3375, 4096, 5832, 8000, 10648, 13824, 15625, 17576, 21952, 27000, 32768, 39304, 42875, 46656, 54872, 64000, 74088, 85184, 91125, 97336, 110592, 125000, 140608, 157464, 166375, 175616, 195112, 216000, 238328, 262144, 274625, 287496, 314432, 343000, 373248, 405224, 421875, 438976, 474552, 512000, 551368, 592704, 614125, 636056, 681472, 729000, 778688, 830584, 857375, 884736, 941192, 1000000]\n"
     ]
    }
   ],
   "source": [
    "l1=list(range(1,101))\n",
    "\n",
    "\n",
    "l2=[(n**3) for n in l1]\n",
    "l3=[]\n",
    "for i in l2:\n",
    "    if i%4==0 or i%5==0:\n",
    "        l3.append(i)\n",
    "print(l3)"
   ]
  },
  {
   "cell_type": "markdown",
   "id": "33ce7435",
   "metadata": {},
   "source": [
    "### Q5. Write a program to filter count vowels in the below-given string. \n",
    "### string = \"I want to become a data scientist\""
   ]
  },
  {
   "cell_type": "code",
   "execution_count": 6,
   "id": "6e27533d",
   "metadata": {},
   "outputs": [
    {
     "data": {
      "text/plain": [
       "12"
      ]
     },
     "execution_count": 6,
     "metadata": {},
     "output_type": "execute_result"
    }
   ],
   "source": [
    "v=\"aeiou\"\n",
    "s=\"I want to become a data scientist\"\n",
    "s1=s.lower()\n",
    "vc=[]\n",
    "for i in s1:\n",
    "    if i in v:\n",
    "        vc.append(i)\n",
    "len(vc)"
   ]
  },
  {
   "cell_type": "code",
   "execution_count": null,
   "id": "43765d28",
   "metadata": {},
   "outputs": [],
   "source": []
  }
 ],
 "metadata": {
  "kernelspec": {
   "display_name": "Python 3 (ipykernel)",
   "language": "python",
   "name": "python3"
  },
  "language_info": {
   "codemirror_mode": {
    "name": "ipython",
    "version": 3
   },
   "file_extension": ".py",
   "mimetype": "text/x-python",
   "name": "python",
   "nbconvert_exporter": "python",
   "pygments_lexer": "ipython3",
   "version": "3.9.13"
  }
 },
 "nbformat": 4,
 "nbformat_minor": 5
}
